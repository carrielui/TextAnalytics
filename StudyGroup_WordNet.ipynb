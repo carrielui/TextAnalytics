{
  "nbformat": 4,
  "nbformat_minor": 0,
  "metadata": {
    "colab": {
      "name": "StudyGroup-WordNet.ipynb",
      "version": "0.3.2",
      "provenance": [],
      "collapsed_sections": [],
      "include_colab_link": true
    },
    "kernelspec": {
      "name": "python3",
      "display_name": "Python 3"
    }
  },
  "cells": [
    {
      "cell_type": "markdown",
      "metadata": {
        "id": "view-in-github",
        "colab_type": "text"
      },
      "source": [
        "<a href=\"https://colab.research.google.com/github/carrielui/TextAnalytics/blob/master/StudyGroup_WordNet.ipynb\" target=\"_parent\"><img src=\"https://colab.research.google.com/assets/colab-badge.svg\" alt=\"Open In Colab\"/></a>"
      ]
    },
    {
      "cell_type": "markdown",
      "metadata": {
        "id": "yjzI0-b-7lFF",
        "colab_type": "text"
      },
      "source": [
        "#Using WordNet in Python"
      ]
    },
    {
      "cell_type": "code",
      "metadata": {
        "id": "cUWry6xsQU4N",
        "colab_type": "code",
        "outputId": "8e31c15d-2864-419a-f2d9-16e2c05ad5b6",
        "colab": {
          "base_uri": "https://localhost:8080/",
          "height": 51
        }
      },
      "source": [
        "# use worknet via nltk\n",
        "import nltk\n",
        "nltk.download('wordnet')\n",
        "from nltk.corpus import wordnet as wn"
      ],
      "execution_count": 0,
      "outputs": [
        {
          "output_type": "stream",
          "text": [
            "[nltk_data] Downloading package wordnet to /root/nltk_data...\n",
            "[nltk_data]   Unzipping corpora/wordnet.zip.\n"
          ],
          "name": "stdout"
        }
      ]
    },
    {
      "cell_type": "markdown",
      "metadata": {
        "id": "ze6DJdWT8ER5",
        "colab_type": "text"
      },
      "source": [
        "**Synset — “synonym set” — a collection of synonymous words**"
      ]
    },
    {
      "cell_type": "code",
      "metadata": {
        "id": "0xGrRGRMRQZ_",
        "colab_type": "code",
        "outputId": "f8944a7a-a4d7-4d19-d3f7-151aafcbcf25",
        "colab": {
          "base_uri": "https://localhost:8080/",
          "height": 34
        }
      },
      "source": [
        " wn.synsets('motorcar')"
      ],
      "execution_count": 0,
      "outputs": [
        {
          "output_type": "execute_result",
          "data": {
            "text/plain": [
              "[Synset('car.n.01')]"
            ]
          },
          "metadata": {
            "tags": []
          },
          "execution_count": 5
        }
      ]
    },
    {
      "cell_type": "markdown",
      "metadata": {
        "id": "Wr5z1Spv8b1y",
        "colab_type": "text"
      },
      "source": [
        "The output means that word motorcar has just one possible context. It is identified by car.n.01 (we will call it \"lemma code name\") - the first noun (letter n) sense of car."
      ]
    },
    {
      "cell_type": "code",
      "metadata": {
        "id": "nXZTVQcx8S0d",
        "colab_type": "code",
        "outputId": "652c532c-574f-4351-e0e7-d41abc8cca65",
        "colab": {
          "base_uri": "https://localhost:8080/",
          "height": 34
        }
      },
      "source": [
        "wn.synset('car.n.01').lemma_names()"
      ],
      "execution_count": 0,
      "outputs": [
        {
          "output_type": "execute_result",
          "data": {
            "text/plain": [
              "['car', 'auto', 'automobile', 'machine', 'motorcar']"
            ]
          },
          "metadata": {
            "tags": []
          },
          "execution_count": 6
        }
      ]
    },
    {
      "cell_type": "markdown",
      "metadata": {
        "id": "IYXk1Rxo8zdo",
        "colab_type": "text"
      },
      "source": [
        "**Some words may have more than one sense**"
      ]
    },
    {
      "cell_type": "code",
      "metadata": {
        "id": "OSTif5eM8n_x",
        "colab_type": "code",
        "outputId": "28abdff3-378d-4331-d387-e490c7401991",
        "colab": {
          "base_uri": "https://localhost:8080/",
          "height": 34
        }
      },
      "source": [
        "wn.synsets('printer')\n"
      ],
      "execution_count": 0,
      "outputs": [
        {
          "output_type": "execute_result",
          "data": {
            "text/plain": [
              "[Synset('printer.n.01'), Synset('printer.n.02'), Synset('printer.n.03')]"
            ]
          },
          "metadata": {
            "tags": []
          },
          "execution_count": 7
        }
      ]
    },
    {
      "cell_type": "code",
      "metadata": {
        "id": "5uVUVBkn8x6h",
        "colab_type": "code",
        "outputId": "e0002e37-9fa6-4cc7-a8c6-beb8e9121ad5",
        "colab": {
          "base_uri": "https://localhost:8080/",
          "height": 191
        }
      },
      "source": [
        "for synset in wn.synsets('printer'):\n",
        "  print(\"\\tLemma: {}\".format(synset.name()))\n",
        "  print(\"\\tDefinition: {}\".format(synset.definition()))\n",
        "  print(\"\\tExample: {}\".format(synset.examples()))"
      ],
      "execution_count": 0,
      "outputs": [
        {
          "output_type": "stream",
          "text": [
            "\tLemma: printer.n.01\n",
            "\tDefinition: someone whose occupation is printing\n",
            "\tExample: []\n",
            "\tLemma: printer.n.02\n",
            "\tDefinition: (computer science) an output device that prints the results of data processing\n",
            "\tExample: []\n",
            "\tLemma: printer.n.03\n",
            "\tDefinition: a machine that prints\n",
            "\tExample: []\n"
          ],
          "name": "stdout"
        }
      ]
    },
    {
      "cell_type": "markdown",
      "metadata": {
        "id": "VZklKTkj9nIC",
        "colab_type": "text"
      },
      "source": [
        "##Lexical relations\n"
      ]
    },
    {
      "cell_type": "code",
      "metadata": {
        "id": "zOYL4tjX9NKH",
        "colab_type": "code",
        "colab": {}
      },
      "source": [
        ""
      ],
      "execution_count": 0,
      "outputs": []
    }
  ]
}