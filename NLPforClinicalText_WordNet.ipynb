{
  "nbformat": 4,
  "nbformat_minor": 0,
  "metadata": {
    "colab": {
      "name": "Copy of NLPforClinicalText-WordNet.ipynb",
      "version": "0.3.2",
      "provenance": [],
      "collapsed_sections": [],
      "include_colab_link": true
    },
    "kernelspec": {
      "name": "python3",
      "display_name": "Python 3"
    }
  },
  "cells": [
    {
      "cell_type": "markdown",
      "metadata": {
        "id": "view-in-github",
        "colab_type": "text"
      },
      "source": [
        "<a href=\"https://colab.research.google.com/github/carrielui/TextAnalytics/blob/master/NLPforClinicalText_WordNet.ipynb\" target=\"_parent\"><img src=\"https://colab.research.google.com/assets/colab-badge.svg\" alt=\"Open In Colab\"/></a>"
      ]
    },
    {
      "cell_type": "markdown",
      "metadata": {
        "id": "yjzI0-b-7lFF",
        "colab_type": "text"
      },
      "source": [
        "#Using WordNet in Python"
      ]
    },
    {
      "cell_type": "code",
      "metadata": {
        "id": "cUWry6xsQU4N",
        "colab_type": "code",
        "outputId": "e984bd47-bb87-40e1-e80c-7873e2d5e323",
        "colab": {
          "base_uri": "https://localhost:8080/",
          "height": 85
        }
      },
      "source": [
        "# use WordNet via nltk\n",
        "import nltk\n",
        "nltk.download('wordnet')\n",
        "from nltk.corpus import wordnet as wn"
      ],
      "execution_count": 0,
      "outputs": [
        {
          "output_type": "stream",
          "text": [
            "[nltk_data] Downloading package wordnet to /root/nltk_data...\n",
            "[nltk_data]   Package wordnet is already up-to-date!\n",
            "[nltk_data] Downloading package wordnet to /root/nltk_data...\n",
            "[nltk_data]   Package wordnet is already up-to-date!\n"
          ],
          "name": "stdout"
        }
      ]
    },
    {
      "cell_type": "markdown",
      "metadata": {
        "id": "ze6DJdWT8ER5",
        "colab_type": "text"
      },
      "source": [
        "### Synset\n",
        "Motorcar has one meaning car.n.01 (=the first noun sense of car). \n",
        "\n",
        "The entity car.n.01 is called a synset, or \"synonym set\", a collection of synonymous words (or \"lemmas\").\n",
        "\n",
        "Synsets are described with a gloss (= definition) and some example\n",
        "sentences.\n"
      ]
    },
    {
      "cell_type": "code",
      "metadata": {
        "id": "0xGrRGRMRQZ_",
        "colab_type": "code",
        "outputId": "724681fb-d59c-4675-c553-cb56e689a842",
        "colab": {
          "base_uri": "https://localhost:8080/",
          "height": 105
        }
      },
      "source": [
        "for synset in wn.synsets('motorcar'):\n",
        "  print(\"\\tLemma: {}\".format(synset.name()))\n",
        "  print(\"\\tLemmas: {}\".format(synset.lemmas()))\n",
        "  print(\"\\tDefinition: {}\".format(synset.definition()))\n",
        "  print(\"\\tExample: {}\".format(synset.examples()))\n",
        "\n",
        "  "
      ],
      "execution_count": 0,
      "outputs": [
        {
          "output_type": "stream",
          "text": [
            "\tLemma: car.n.01\n",
            "\tLemmas: [Lemma('car.n.01.car'), Lemma('car.n.01.auto'), Lemma('car.n.01.automobile'), Lemma('car.n.01.machine'), Lemma('car.n.01.motorcar')]\n",
            "\tDefinition: a motor vehicle with four wheels; usually propelled by an internal combustion engine\n",
            "\tExample: ['he needs a car to get to work']\n"
          ],
          "name": "stdout"
        }
      ]
    },
    {
      "cell_type": "markdown",
      "metadata": {
        "id": "-05MmeuQ6Spz",
        "colab_type": "text"
      },
      "source": [
        "Unlike the words automobile and motorcar, which are unambiguous\n",
        "and have one synset, the word car is ambiguous, having five synsets:\n"
      ]
    },
    {
      "cell_type": "code",
      "metadata": {
        "id": "rj87FjKr6T1k",
        "colab_type": "code",
        "outputId": "aa4cb18f-c204-4be1-f12e-04921419a382",
        "colab": {
          "base_uri": "https://localhost:8080/",
          "height": 102
        }
      },
      "source": [
        "wn.synsets(\"car\")"
      ],
      "execution_count": 0,
      "outputs": [
        {
          "output_type": "execute_result",
          "data": {
            "text/plain": [
              "[Synset('car.n.01'),\n",
              " Synset('car.n.02'),\n",
              " Synset('car.n.03'),\n",
              " Synset('car.n.04'),\n",
              " Synset('cable_car.n.01')]"
            ]
          },
          "metadata": {
            "tags": []
          },
          "execution_count": 62
        }
      ]
    },
    {
      "cell_type": "code",
      "metadata": {
        "id": "gFFSYTcQ6gfc",
        "colab_type": "code",
        "outputId": "d245a79e-ab7e-4587-aea5-0b1ffe4b2d53",
        "colab": {
          "base_uri": "https://localhost:8080/",
          "height": 102
        }
      },
      "source": [
        "for synset in wn.synsets('car'):\n",
        "  print(\"\\tLemmas: {}\".format(synset.lemma_names()))\n",
        "\n",
        "  "
      ],
      "execution_count": 0,
      "outputs": [
        {
          "output_type": "stream",
          "text": [
            "\tLemmas: ['car', 'auto', 'automobile', 'machine', 'motorcar']\n",
            "\tLemmas: ['car', 'railcar', 'railway_car', 'railroad_car']\n",
            "\tLemmas: ['car', 'gondola']\n",
            "\tLemmas: ['car', 'elevator_car']\n",
            "\tLemmas: ['cable_car', 'car']\n"
          ],
          "name": "stdout"
        }
      ]
    },
    {
      "cell_type": "markdown",
      "metadata": {
        "id": "ZZILGgSTSYHV",
        "colab_type": "text"
      },
      "source": [
        "## **Hypernyms and Hyponyms (\"is-a relation\")**\n",
        "One sense is a hyponym of another if the first sense is more specific, denoting a subclass of the other.\n",
        "\n",
        "\n",
        "*   Motor vehical is a hypernym of motorcart\n",
        "*   Ambulance is a hyponym of motorcar\n",
        "\n"
      ]
    },
    {
      "cell_type": "code",
      "metadata": {
        "id": "5uVUVBkn8x6h",
        "colab_type": "code",
        "outputId": "c0d66bbe-9973-434a-be63-4c877068dc13",
        "colab": {
          "base_uri": "https://localhost:8080/",
          "height": 71
        }
      },
      "source": [
        "motorcar = wn.synset('car.n.01')\n",
        "print(\"\\tHypernums: {}\".format(motorcar.hypernyms()))\n",
        "print(\"\\tHyponyms: {}\".format(motorcar.hyponyms()))"
      ],
      "execution_count": 0,
      "outputs": [
        {
          "output_type": "stream",
          "text": [
            "\tHypernums: [Synset('motor_vehicle.n.01')]\n",
            "\tHyponyms: [Synset('ambulance.n.01'), Synset('beach_wagon.n.01'), Synset('bus.n.04'), Synset('cab.n.03'), Synset('compact.n.03'), Synset('convertible.n.01'), Synset('coupe.n.01'), Synset('cruiser.n.01'), Synset('electric.n.01'), Synset('gas_guzzler.n.01'), Synset('hardtop.n.01'), Synset('hatchback.n.01'), Synset('horseless_carriage.n.01'), Synset('hot_rod.n.01'), Synset('jeep.n.01'), Synset('limousine.n.01'), Synset('loaner.n.02'), Synset('minicar.n.01'), Synset('minivan.n.01'), Synset('model_t.n.01'), Synset('pace_car.n.01'), Synset('racer.n.02'), Synset('roadster.n.01'), Synset('sedan.n.01'), Synset('sport_utility.n.01'), Synset('sports_car.n.01'), Synset('stanley_steamer.n.01'), Synset('stock_car.n.01'), Synset('subcompact.n.01'), Synset('touring_car.n.01'), Synset('used-car.n.01')]\n"
          ],
          "name": "stdout"
        }
      ]
    },
    {
      "cell_type": "code",
      "metadata": {
        "id": "xu_UWln_AQQE",
        "colab_type": "code",
        "outputId": "5ed6093b-7b69-4a70-c7d0-b23bc209d70b",
        "colab": {
          "base_uri": "https://localhost:8080/",
          "height": 71
        }
      },
      "source": [
        "types_of_motorcar = motorcar.hyponyms()\n",
        "print(types_of_motorcar[15])\n",
        "print(sorted([lemma.name() for synset in types_of_motorcar for lemma in synset.lemmas()]))"
      ],
      "execution_count": 0,
      "outputs": [
        {
          "output_type": "stream",
          "text": [
            "Synset('limousine.n.01')\n",
            "['Model_T', 'S.U.V.', 'SUV', 'Stanley_Steamer', 'ambulance', 'beach_waggon', 'beach_wagon', 'bus', 'cab', 'compact', 'compact_car', 'convertible', 'coupe', 'cruiser', 'electric', 'electric_automobile', 'electric_car', 'estate_car', 'gas_guzzler', 'hack', 'hardtop', 'hatchback', 'heap', 'horseless_carriage', 'hot-rod', 'hot_rod', 'jalopy', 'jeep', 'landrover', 'limo', 'limousine', 'loaner', 'minicar', 'minivan', 'pace_car', 'patrol_car', 'phaeton', 'police_car', 'police_cruiser', 'prowl_car', 'race_car', 'racer', 'racing_car', 'roadster', 'runabout', 'saloon', 'secondhand_car', 'sedan', 'sport_car', 'sport_utility', 'sport_utility_vehicle', 'sports_car', 'squad_car', 'station_waggon', 'station_wagon', 'stock_car', 'subcompact', 'subcompact_car', 'taxi', 'taxicab', 'tourer', 'touring_car', 'two-seater', 'used-car', 'waggon', 'wagon']\n"
          ],
          "name": "stdout"
        }
      ]
    },
    {
      "cell_type": "code",
      "metadata": {
        "id": "9tqpM-m_C3_s",
        "colab_type": "code",
        "outputId": "64e05103-26ea-4aa7-dc4c-9f18ff50d997",
        "colab": {
          "base_uri": "https://localhost:8080/",
          "height": 51
        }
      },
      "source": [
        "print(motorcar.hypernyms())\n",
        "paths = motorcar.hypernym_paths()\n",
        "print(len(paths))\n"
      ],
      "execution_count": 0,
      "outputs": [
        {
          "output_type": "stream",
          "text": [
            "[Synset('motor_vehicle.n.01')]\n",
            "2\n"
          ],
          "name": "stdout"
        }
      ]
    },
    {
      "cell_type": "code",
      "metadata": {
        "id": "wPO_eEvfD9i5",
        "colab_type": "code",
        "outputId": "f1437453-cdcc-4cbd-c7e2-b13833a6a53d",
        "colab": {
          "base_uri": "https://localhost:8080/",
          "height": 204
        }
      },
      "source": [
        "[synset.name() for synset in paths[0]]"
      ],
      "execution_count": 0,
      "outputs": [
        {
          "output_type": "execute_result",
          "data": {
            "text/plain": [
              "['entity.n.01',\n",
              " 'physical_entity.n.01',\n",
              " 'object.n.01',\n",
              " 'whole.n.02',\n",
              " 'artifact.n.01',\n",
              " 'instrumentality.n.03',\n",
              " 'container.n.01',\n",
              " 'wheeled_vehicle.n.01',\n",
              " 'self-propelled_vehicle.n.01',\n",
              " 'motor_vehicle.n.01',\n",
              " 'car.n.01']"
            ]
          },
          "metadata": {
            "tags": []
          },
          "execution_count": 67
        }
      ]
    },
    {
      "cell_type": "code",
      "metadata": {
        "id": "3fx2T2IuDeUh",
        "colab_type": "code",
        "outputId": "56568892-546a-4350-eb9e-2d5508e733fe",
        "colab": {
          "base_uri": "https://localhost:8080/",
          "height": 221
        }
      },
      "source": [
        "[synset.name() for synset in paths[1]]"
      ],
      "execution_count": 0,
      "outputs": [
        {
          "output_type": "execute_result",
          "data": {
            "text/plain": [
              "['entity.n.01',\n",
              " 'physical_entity.n.01',\n",
              " 'object.n.01',\n",
              " 'whole.n.02',\n",
              " 'artifact.n.01',\n",
              " 'instrumentality.n.03',\n",
              " 'conveyance.n.03',\n",
              " 'vehicle.n.01',\n",
              " 'wheeled_vehicle.n.01',\n",
              " 'self-propelled_vehicle.n.01',\n",
              " 'motor_vehicle.n.01',\n",
              " 'car.n.01']"
            ]
          },
          "metadata": {
            "tags": []
          },
          "execution_count": 68
        }
      ]
    },
    {
      "cell_type": "markdown",
      "metadata": {
        "id": "skH234fEwe37",
        "colab_type": "text"
      },
      "source": [
        "##Hyponymas and Instance\n",
        "WordNet has both classes and instances. An instance is an individual , a proper noun that is a unique entity. E.g. San Francisco is an instance of city."
      ]
    },
    {
      "cell_type": "code",
      "metadata": {
        "id": "sRSHbWdpzpLP",
        "colab_type": "code",
        "outputId": "482999bf-dbd7-4d58-afbb-b3d240fc3b1e",
        "colab": {
          "base_uri": "https://localhost:8080/",
          "height": 34
        }
      },
      "source": [
        "wn.synset('san_francisco.n.01').hypernyms()\n"
      ],
      "execution_count": 0,
      "outputs": [
        {
          "output_type": "execute_result",
          "data": {
            "text/plain": [
              "[]"
            ]
          },
          "metadata": {
            "tags": []
          },
          "execution_count": 69
        }
      ]
    },
    {
      "cell_type": "code",
      "metadata": {
        "id": "-vnOM2iTGPjC",
        "colab_type": "code",
        "outputId": "28439896-0582-4a61-d4bf-09f30e3b8767",
        "colab": {
          "base_uri": "https://localhost:8080/",
          "height": 34
        }
      },
      "source": [
        "wn.synset('san_francisco.n.01').instance_hypernyms()"
      ],
      "execution_count": 0,
      "outputs": [
        {
          "output_type": "execute_result",
          "data": {
            "text/plain": [
              "[Synset('city.n.01'), Synset('port_of_entry.n.01')]"
            ]
          },
          "metadata": {
            "tags": []
          },
          "execution_count": 70
        }
      ]
    },
    {
      "cell_type": "markdown",
      "metadata": {
        "id": "uclibj58dZ3T",
        "colab_type": "text"
      },
      "source": [
        "## Meronyms and Holonyms\n",
        "\n",
        "\n",
        "*   branch is a meronym (part meronym) of tree\n",
        "*   heartwood is a meronym (substance meronym) of tree\n",
        "* forest is a holonym (member holonym) of *tree*\n",
        "\n"
      ]
    },
    {
      "cell_type": "code",
      "metadata": {
        "id": "dz3UA3CnZvNW",
        "colab_type": "code",
        "outputId": "3b2d1662-a5f7-4d36-a0b0-97f71fc0507b",
        "colab": {
          "base_uri": "https://localhost:8080/",
          "height": 102
        }
      },
      "source": [
        "wn.synset('tree.n.01').part_meronyms()"
      ],
      "execution_count": 0,
      "outputs": [
        {
          "output_type": "execute_result",
          "data": {
            "text/plain": [
              "[Synset('burl.n.02'),\n",
              " Synset('crown.n.07'),\n",
              " Synset('limb.n.02'),\n",
              " Synset('stump.n.01'),\n",
              " Synset('trunk.n.01')]"
            ]
          },
          "metadata": {
            "tags": []
          },
          "execution_count": 71
        }
      ]
    },
    {
      "cell_type": "code",
      "metadata": {
        "id": "Wk7BLIJSdo2U",
        "colab_type": "code",
        "outputId": "5531257c-9858-4694-a23e-32e7dbc08b86",
        "colab": {
          "base_uri": "https://localhost:8080/",
          "height": 34
        }
      },
      "source": [
        "wn.synset('tree.n.01').substance_meronyms()"
      ],
      "execution_count": 0,
      "outputs": [
        {
          "output_type": "execute_result",
          "data": {
            "text/plain": [
              "[Synset('heartwood.n.01'), Synset('sapwood.n.01')]"
            ]
          },
          "metadata": {
            "tags": []
          },
          "execution_count": 72
        }
      ]
    },
    {
      "cell_type": "code",
      "metadata": {
        "id": "d5DOn263d2Oh",
        "colab_type": "code",
        "outputId": "d746ea40-a65d-49ba-f661-a8b03c9f9228",
        "colab": {
          "base_uri": "https://localhost:8080/",
          "height": 34
        }
      },
      "source": [
        "wn.synset('tree.n.01').member_holonyms()"
      ],
      "execution_count": 0,
      "outputs": [
        {
          "output_type": "execute_result",
          "data": {
            "text/plain": [
              "[Synset('forest.n.01')]"
            ]
          },
          "metadata": {
            "tags": []
          },
          "execution_count": 73
        }
      ]
    },
    {
      "cell_type": "markdown",
      "metadata": {
        "id": "OkGmsV83GnqJ",
        "colab_type": "text"
      },
      "source": [
        "## Entailments\n",
        "The verb Y is entailed by X if by doing X you must be doing Y.\n",
        "* to sleep is entailed by to snore"
      ]
    },
    {
      "cell_type": "code",
      "metadata": {
        "id": "djIO-BEbHRhP",
        "colab_type": "code",
        "outputId": "322b273b-9613-4045-cccc-a1c9dbcf5429",
        "colab": {
          "base_uri": "https://localhost:8080/",
          "height": 34
        }
      },
      "source": [
        "wn.synset(\"snore.v.01\").entailments()"
      ],
      "execution_count": 0,
      "outputs": [
        {
          "output_type": "execute_result",
          "data": {
            "text/plain": [
              "[Synset('sleep.v.01')]"
            ]
          },
          "metadata": {
            "tags": []
          },
          "execution_count": 74
        }
      ]
    },
    {
      "cell_type": "code",
      "metadata": {
        "id": "4p8MBCPuHYsO",
        "colab_type": "code",
        "outputId": "067fb0d8-3f0d-4873-e5d7-19c5c602458f",
        "colab": {
          "base_uri": "https://localhost:8080/",
          "height": 34
        }
      },
      "source": [
        "wn.synset(\"walk.v.01\").entailments()"
      ],
      "execution_count": 0,
      "outputs": [
        {
          "output_type": "execute_result",
          "data": {
            "text/plain": [
              "[Synset('step.v.01')]"
            ]
          },
          "metadata": {
            "tags": []
          },
          "execution_count": 75
        }
      ]
    },
    {
      "cell_type": "code",
      "metadata": {
        "id": "0u5Y1TXJHg1Y",
        "colab_type": "code",
        "outputId": "ac00b62b-f30a-4e09-b338-b321a5f7fbcf",
        "colab": {
          "base_uri": "https://localhost:8080/",
          "height": 34
        }
      },
      "source": [
        "wn.synset(\"eat.v.01\").entailments()"
      ],
      "execution_count": 0,
      "outputs": [
        {
          "output_type": "execute_result",
          "data": {
            "text/plain": [
              "[Synset('chew.v.01'), Synset('swallow.v.01')]"
            ]
          },
          "metadata": {
            "tags": []
          },
          "execution_count": 76
        }
      ]
    },
    {
      "cell_type": "code",
      "metadata": {
        "id": "bnTCGN6kHjWR",
        "colab_type": "code",
        "outputId": "8ac08962-08df-4f5e-f55d-4e62c0e6b718",
        "colab": {
          "base_uri": "https://localhost:8080/",
          "height": 34
        }
      },
      "source": [
        "wn.synset(\"tease.v.03\").entailments()"
      ],
      "execution_count": 0,
      "outputs": [
        {
          "output_type": "execute_result",
          "data": {
            "text/plain": [
              "[Synset('arouse.v.07'), Synset('disappoint.v.01')]"
            ]
          },
          "metadata": {
            "tags": []
          },
          "execution_count": 77
        }
      ]
    },
    {
      "cell_type": "markdown",
      "metadata": {
        "id": "DdsLaJyBIIoi",
        "colab_type": "text"
      },
      "source": [
        "## Antonymy"
      ]
    },
    {
      "cell_type": "code",
      "metadata": {
        "id": "OdylMIBrIIUQ",
        "colab_type": "code",
        "outputId": "5628e108-f857-4f52-9733-f076b97e212e",
        "colab": {
          "base_uri": "https://localhost:8080/",
          "height": 34
        }
      },
      "source": [
        "wn.lemma(\"supply.n.02.supply\").antonyms()"
      ],
      "execution_count": 0,
      "outputs": [
        {
          "output_type": "execute_result",
          "data": {
            "text/plain": [
              "[Lemma('demand.n.02.demand')]"
            ]
          },
          "metadata": {
            "tags": []
          },
          "execution_count": 78
        }
      ]
    },
    {
      "cell_type": "code",
      "metadata": {
        "id": "QHTlcmo7HrE7",
        "colab_type": "code",
        "outputId": "cbc0d2d8-7747-4ae5-91fe-2c12ac361de1",
        "colab": {
          "base_uri": "https://localhost:8080/",
          "height": 34
        }
      },
      "source": [
        "wn.lemma(\"rush.v.01.rush\").antonyms()"
      ],
      "execution_count": 0,
      "outputs": [
        {
          "output_type": "execute_result",
          "data": {
            "text/plain": [
              "[Lemma('linger.v.04.linger')]"
            ]
          },
          "metadata": {
            "tags": []
          },
          "execution_count": 79
        }
      ]
    },
    {
      "cell_type": "code",
      "metadata": {
        "id": "RLGAPFzgImzR",
        "colab_type": "code",
        "outputId": "cb8db5d8-ecc3-4095-c470-2ce160f84af8",
        "colab": {
          "base_uri": "https://localhost:8080/",
          "height": 34
        }
      },
      "source": [
        "wn.lemma(\"horizontal.a.01.horizontal\").antonyms()"
      ],
      "execution_count": 0,
      "outputs": [
        {
          "output_type": "execute_result",
          "data": {
            "text/plain": [
              "[Lemma('inclined.a.02.inclined'), Lemma('vertical.a.01.vertical')]"
            ]
          },
          "metadata": {
            "tags": []
          },
          "execution_count": 80
        }
      ]
    },
    {
      "cell_type": "markdown",
      "metadata": {
        "id": "baPMu7DSIxu0",
        "colab_type": "text"
      },
      "source": [
        "## More Lexical Relations\n",
        "You can see the lexical relations and other methods defined on a synset, using dir()"
      ]
    },
    {
      "cell_type": "code",
      "metadata": {
        "id": "CwTJi7f6IsVW",
        "colab_type": "code",
        "outputId": "752531ed-89ac-48e2-fb82-5bcd53bf1c7a",
        "colab": {
          "base_uri": "https://localhost:8080/",
          "height": 54
        }
      },
      "source": [
        "print(dir(wn.synsets(\"motorcar\")[0]))"
      ],
      "execution_count": 0,
      "outputs": [
        {
          "output_type": "stream",
          "text": [
            "['__class__', '__delattr__', '__dict__', '__dir__', '__doc__', '__eq__', '__format__', '__ge__', '__getattribute__', '__gt__', '__hash__', '__init__', '__init_subclass__', '__le__', '__lt__', '__module__', '__ne__', '__new__', '__reduce__', '__reduce_ex__', '__repr__', '__setattr__', '__sizeof__', '__slots__', '__str__', '__subclasshook__', '__unicode__', '__weakref__', '_all_hypernyms', '_definition', '_examples', '_frame_ids', '_hypernyms', '_instance_hypernyms', '_iter_hypernym_lists', '_lemma_names', '_lemma_pointers', '_lemmas', '_lexname', '_max_depth', '_min_depth', '_name', '_needs_root', '_offset', '_pointers', '_pos', '_related', '_shortest_hypernym_paths', '_wordnet_corpus_reader', 'also_sees', 'attributes', 'causes', 'closure', 'common_hypernyms', 'definition', 'entailments', 'examples', 'frame_ids', 'hypernym_distances', 'hypernym_paths', 'hypernyms', 'hyponyms', 'instance_hypernyms', 'instance_hyponyms', 'jcn_similarity', 'lch_similarity', 'lemma_names', 'lemmas', 'lexname', 'lin_similarity', 'lowest_common_hypernyms', 'max_depth', 'member_holonyms', 'member_meronyms', 'min_depth', 'name', 'offset', 'part_holonyms', 'part_meronyms', 'path_similarity', 'pos', 'region_domains', 'res_similarity', 'root_hypernyms', 'shortest_path_distance', 'similar_tos', 'substance_holonyms', 'substance_meronyms', 'topic_domains', 'tree', 'unicode_repr', 'usage_domains', 'verb_groups', 'wup_similarity']\n"
          ],
          "name": "stdout"
        }
      ]
    },
    {
      "cell_type": "markdown",
      "metadata": {
        "id": "kuUSZ3D9JYPW",
        "colab_type": "text"
      },
      "source": [
        "## Semantic Similarity\n",
        "Two synsets linked to the same root may have several hypernyms in common. If two synsets share a very specific hypernym (low doan in the hypernym hierarchy), they must be closely related."
      ]
    },
    {
      "cell_type": "code",
      "metadata": {
        "id": "ogp4vLs-JFdE",
        "colab_type": "code",
        "colab": {}
      },
      "source": [
        "right = wn.synset(\"right_whale.n.01\")\n",
        "orca = wn.synset(\"orca.n.01\")\n",
        "minke = wn.synset(\"minke_whale.n.01\")\n",
        "tortoise = wn.synset(\"tortoise.n.01\")\n",
        "novel = wn.synset(\"novel.n.01\")"
      ],
      "execution_count": 0,
      "outputs": []
    },
    {
      "cell_type": "code",
      "metadata": {
        "id": "9uq1n_P_KHqs",
        "colab_type": "code",
        "outputId": "5732ed34-e26f-4c3b-df29-4ca329e3ad4a",
        "colab": {
          "base_uri": "https://localhost:8080/",
          "height": 85
        }
      },
      "source": [
        "print(right.lowest_common_hypernyms(minke))\n",
        "print(right.lowest_common_hypernyms(orca))\n",
        "print(right.lowest_common_hypernyms(tortoise))\n",
        "print(right.lowest_common_hypernyms(novel))\n"
      ],
      "execution_count": 0,
      "outputs": [
        {
          "output_type": "stream",
          "text": [
            "[Synset('baleen_whale.n.01')]\n",
            "[Synset('whale.n.02')]\n",
            "[Synset('vertebrate.n.01')]\n",
            "[Synset('entity.n.01')]\n"
          ],
          "name": "stdout"
        }
      ]
    },
    {
      "cell_type": "markdown",
      "metadata": {
        "id": "ZMGyGTFsKW0T",
        "colab_type": "text"
      },
      "source": [
        "We can quantigy this concept of generality by looking up the depth of each synset."
      ]
    },
    {
      "cell_type": "code",
      "metadata": {
        "id": "7UlDZMR-KKAa",
        "colab_type": "code",
        "outputId": "09dbc9fd-dd25-4a06-85f7-3ec7d30facc2",
        "colab": {
          "base_uri": "https://localhost:8080/",
          "height": 85
        }
      },
      "source": [
        "print(wn.synset(\"baleen_whale.n.01\").min_depth())\n",
        "print(wn.synset(\"whale.n.02\").min_depth())\n",
        "print(wn.synset(\"vertebrate.n.01\").min_depth())\n",
        "print(wn.synset(\"entity.n.01\").min_depth())"
      ],
      "execution_count": 0,
      "outputs": [
        {
          "output_type": "stream",
          "text": [
            "14\n",
            "13\n",
            "8\n",
            "0\n"
          ],
          "name": "stdout"
        }
      ]
    },
    {
      "cell_type": "markdown",
      "metadata": {
        "id": "UexD20MZLJ8q",
        "colab_type": "text"
      },
      "source": [
        "### Path similarity\n",
        "Path similarity measures have been defined over the collection of WordNet synsets that incorporate this insight \n",
        "* path_similarity()  assigns a score in the range 0-1 based on the shortest path that connects the concepts in the hypernym\n",
        "hierarchy \n",
        "* -1 is returned in those cases where a path cannot be found \n",
        "* Comparing a synset with itself will return 1\n",
        "\n",
        "\n",
        "\n",
        "Potential NLP application\n",
        "Coreference Resolution: I saw an **orca**. The **whale** was huge."
      ]
    },
    {
      "cell_type": "code",
      "metadata": {
        "id": "fLjd_onEK1ah",
        "colab_type": "code",
        "outputId": "aa1050bd-dc8d-4f06-a0d1-41e7ef1006bb",
        "colab": {
          "base_uri": "https://localhost:8080/",
          "height": 85
        }
      },
      "source": [
        "print(right.path_similarity(minke))\n",
        "print(right.path_similarity(orca))\n",
        "print(right.path_similarity(tortoise))\n",
        "print(right.path_similarity(novel))\n"
      ],
      "execution_count": 0,
      "outputs": [
        {
          "output_type": "stream",
          "text": [
            "0.25\n",
            "0.16666666666666666\n",
            "0.07692307692307693\n",
            "0.043478260869565216\n"
          ],
          "name": "stdout"
        }
      ]
    },
    {
      "cell_type": "markdown",
      "metadata": {
        "id": "RtFmZh2KPycc",
        "colab_type": "text"
      },
      "source": [
        "There are many different ways to quantify similarity. For more details, please see http://www.nltk.org/howto/wordnet.html"
      ]
    },
    {
      "cell_type": "markdown",
      "metadata": {
        "id": "_nM328TSOKdW",
        "colab_type": "text"
      },
      "source": [
        "## Word Sense Disambiguation (WSD)\n",
        "**Lesk Algorithm**: classical algorithm for Word Sense Disambiguation (WSD) introduced by Michael E. Lesk in 1986. Word’s dictionary definitions are likely to be good indicators\n",
        "for the senses they define\n"
      ]
    },
    {
      "cell_type": "code",
      "metadata": {
        "id": "m1-rYFdeLjuc",
        "colab_type": "code",
        "outputId": "c083c23a-9be2-4fb5-fa89-07c0d539bf9e",
        "colab": {
          "base_uri": "https://localhost:8080/",
          "height": 68
        }
      },
      "source": [
        "from nltk import  word_tokenize , wordpunct_tokenize\n",
        "from nltk.wsd import lesk\n",
        "nltk.download('punkt')\n",
        "sentence = \"I went to the bank to deposit some money last Monday\"\n",
        "tokens = word_tokenize(sentence)\n",
        "print(lesk(tokens,'bank','n'))"
      ],
      "execution_count": 0,
      "outputs": [
        {
          "output_type": "stream",
          "text": [
            "[nltk_data] Downloading package punkt to /root/nltk_data...\n",
            "[nltk_data]   Package punkt is already up-to-date!\n",
            "Synset('savings_bank.n.02')\n"
          ],
          "name": "stdout"
        }
      ]
    },
    {
      "cell_type": "code",
      "metadata": {
        "id": "kQ-ILyOgM4ZU",
        "colab_type": "code",
        "colab": {}
      },
      "source": [
        ""
      ],
      "execution_count": 0,
      "outputs": []
    }
  ]
}