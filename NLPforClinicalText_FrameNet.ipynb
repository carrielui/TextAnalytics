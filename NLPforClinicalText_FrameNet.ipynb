{
  "nbformat": 4,
  "nbformat_minor": 0,
  "metadata": {
    "colab": {
      "name": "NLPforClinicalText_FrameNet.ipynb",
      "version": "0.3.2",
      "provenance": [],
      "collapsed_sections": [],
      "include_colab_link": true
    },
    "kernelspec": {
      "name": "python3",
      "display_name": "Python 3"
    }
  },
  "cells": [
    {
      "cell_type": "markdown",
      "metadata": {
        "id": "view-in-github",
        "colab_type": "text"
      },
      "source": [
        "<a href=\"https://colab.research.google.com/github/carrielui/TextAnalytics/blob/master/NLPforClinicalText_FrameNet.ipynb\" target=\"_parent\"><img src=\"https://colab.research.google.com/assets/colab-badge.svg\" alt=\"Open In Colab\"/></a>"
      ]
    },
    {
      "cell_type": "markdown",
      "metadata": {
        "id": "U5Nptu8etmNP",
        "colab_type": "text"
      },
      "source": [
        "# Using FrameNet with Python"
      ]
    },
    {
      "cell_type": "code",
      "metadata": {
        "id": "DvJnAeJxmucC",
        "colab_type": "code",
        "colab": {
          "base_uri": "https://localhost:8080/",
          "height": 51
        },
        "outputId": "070045a2-7e89-442a-a083-53a4a2f305f1"
      },
      "source": [
        "# use Framenet via nltk\n",
        "from pprint import pprint \n",
        "import nltk\n",
        "nltk.download(\"framenet_v17\")\n",
        "from nltk.corpus import framenet as fn"
      ],
      "execution_count": 9,
      "outputs": [
        {
          "output_type": "stream",
          "text": [
            "[nltk_data] Downloading package framenet_v17 to /root/nltk_data...\n",
            "[nltk_data]   Package framenet_v17 is already up-to-date!\n"
          ],
          "name": "stdout"
        }
      ]
    },
    {
      "cell_type": "markdown",
      "metadata": {
        "id": "Mv0ecR25ttMj",
        "colab_type": "text"
      },
      "source": [
        "## Frames"
      ]
    },
    {
      "cell_type": "code",
      "metadata": {
        "id": "I28oCLY0nSuK",
        "colab_type": "code",
        "colab": {
          "base_uri": "https://localhost:8080/",
          "height": 34
        },
        "outputId": "af4fa981-d164-4722-f5b7-745a5e10f812"
      },
      "source": [
        "# total number of frames in framenet\n",
        "len(fn.frames())\n"
      ],
      "execution_count": 14,
      "outputs": [
        {
          "output_type": "execute_result",
          "data": {
            "text/plain": [
              "1221"
            ]
          },
          "metadata": {
            "tags": []
          },
          "execution_count": 14
        }
      ]
    },
    {
      "cell_type": "markdown",
      "metadata": {
        "id": "J6eN2XrcuLBI",
        "colab_type": "text"
      },
      "source": [
        "You can use regular expression pattern in the frames() function to get list of all Frames whose names match that pattern. For example, to list the frame which name starting with medical."
      ]
    },
    {
      "cell_type": "code",
      "metadata": {
        "id": "GOYU2tTvqxj6",
        "colab_type": "code",
        "colab": {
          "base_uri": "https://localhost:8080/",
          "height": 119
        },
        "outputId": "6ece296e-ba5f-45b5-ed4c-ec71c05b7bb8"
      },
      "source": [
        "#regular expression pattern to the frames() function, you will get a list of all Frames whose names match that pattern:\n",
        "fns = fn.frames(r'(?i)medical')\n",
        "for f in fns:\n",
        "  print(f.name)"
      ],
      "execution_count": 36,
      "outputs": [
        {
          "output_type": "stream",
          "text": [
            "Medical_conditions\n",
            "Medical_instruments\n",
            "Medical_interaction_scenario\n",
            "Medical_intervention\n",
            "Medical_professionals\n",
            "Medical_specialties\n"
          ],
          "name": "stdout"
        }
      ]
    },
    {
      "cell_type": "markdown",
      "metadata": {
        "id": "qBBaVjt7vxG_",
        "colab_type": "text"
      },
      "source": [
        "To get the details of a particular Frame, you can use the frame() function passing in the frame number:"
      ]
    },
    {
      "cell_type": "code",
      "metadata": {
        "id": "jYfbdPYTsqPZ",
        "colab_type": "code",
        "colab": {
          "base_uri": "https://localhost:8080/",
          "height": 612
        },
        "outputId": "bd895b50-cdda-4525-e6e8-c394911a4668"
      },
      "source": [
        "f = fn.frame(256)\n",
        "print(f)"
      ],
      "execution_count": 41,
      "outputs": [
        {
          "output_type": "stream",
          "text": [
            "frame (256): Medical_specialties\n",
            "\n",
            "[URL] https://framenet2.icsi.berkeley.edu/fnReports/data/frame/Medical_specialties.xml\n",
            "\n",
            "[definition]\n",
            "  This frame includes words that name medical specialties and is\n",
            "  closely related to the Medical_professionals frame.  The FE Type\n",
            "  characterizing a sub-are in a Specialty may also be expressed.\n",
            "  'Ralph practices paediatric oncology.'\n",
            "\n",
            "[semTypes] 0 semantic types\n",
            "\n",
            "[frameRelations] 1 frame relations\n",
            "  <Parent=Medical_interaction_scenario -- Using -> Child=Medical_specialties>\n",
            "\n",
            "[lexUnit] 29 lexical units\n",
            "  allopathy.n (4601), cardiology.n (4590), chiropractic.n (4598),\n",
            "  dentistry.n (4591), dermatology.n (4592), endocrinology.n (4593),\n",
            "  epidemiology.n (4594), gastroenterology.n (4595), gynaecology.n\n",
            "  (4596), haematology.n (4597), histology.n (4599), homeopathy.n\n",
            "  (4600), immunology.n (4605), medicine.n (4622), midwifery.n\n",
            "  (4602), neonatology.n (4610), nephrology.n (4611), neurology.n\n",
            "  (4612), obstetrics.n (4613), oncology.n (4614), orthopaedics.n\n",
            "  (4615), paediatrics.n (4616), podiatry.n (4617), psychoanalysis.n\n",
            "  (4604), psychotherapy.n (4603), radiology.n (4618),\n",
            "  rheumatology.n (4619), speech therapy.n (4632), therapy.n (4629)\n",
            "\n",
            "\n",
            "[FE] 4 frame elements\n",
            "            Core: Specialty (3618)\n",
            "      Peripheral: Affliction (9873), Body_system (9872), Type (3619)\n",
            "\n",
            "[FEcoreSets] 0 frame element core sets\n",
            "  \n",
            "\n"
          ],
          "name": "stdout"
        }
      ]
    },
    {
      "cell_type": "markdown",
      "metadata": {
        "id": "w1TBKZYfthaf",
        "colab_type": "text"
      },
      "source": [
        "To get the details of a particular Frame, you can use the frame() function passing in the frame number:"
      ]
    },
    {
      "cell_type": "code",
      "metadata": {
        "id": "EBs00Zi9rAzb",
        "colab_type": "code",
        "colab": {
          "base_uri": "https://localhost:8080/",
          "height": 88
        },
        "outputId": "dcf3c4b8-5618-4029-eba3-e718108a2d3a"
      },
      "source": [
        "print(f.name)\n",
        "print(f.ID)\n",
        "print(f.definition)"
      ],
      "execution_count": 44,
      "outputs": [
        {
          "output_type": "stream",
          "text": [
            "Medical_specialties\n",
            "256\n",
            "This frame includes words that name medical specialties and is closely related to the Medical_professionals frame.  The FE Type characterizing a sub-are in a Specialty may also be expressed. 'Ralph practices paediatric oncology.'\n"
          ],
          "name": "stdout"
        }
      ]
    },
    {
      "cell_type": "markdown",
      "metadata": {
        "id": "4sQvOx-4w4GT",
        "colab_type": "text"
      },
      "source": [
        "## Frame Elements"
      ]
    },
    {
      "cell_type": "code",
      "metadata": {
        "id": "8ztjK3EQwOLr",
        "colab_type": "code",
        "colab": {
          "base_uri": "https://localhost:8080/",
          "height": 34
        },
        "outputId": "92162227-db47-4011-8366-2df17730ad25"
      },
      "source": [
        "pprint(sorted([x for x in f.FE]))"
      ],
      "execution_count": 45,
      "outputs": [
        {
          "output_type": "stream",
          "text": [
            "['Affliction', 'Body_system', 'Specialty', 'Type']\n"
          ],
          "name": "stdout"
        }
      ]
    },
    {
      "cell_type": "markdown",
      "metadata": {
        "id": "N8XDnqSUw8Xr",
        "colab_type": "text"
      },
      "source": [
        "## Frame Relations"
      ]
    },
    {
      "cell_type": "code",
      "metadata": {
        "id": "xx_0mpEMwZiE",
        "colab_type": "code",
        "colab": {
          "base_uri": "https://localhost:8080/",
          "height": 34
        },
        "outputId": "f9874d28-784c-4528-b63d-f85bd2ca5d02"
      },
      "source": [
        "pprint(f.frameRelations)"
      ],
      "execution_count": 46,
      "outputs": [
        {
          "output_type": "stream",
          "text": [
            "[<Parent=Medical_interaction_scenario -- Using -> Child=Medical_specialties>]\n"
          ],
          "name": "stdout"
        }
      ]
    },
    {
      "cell_type": "markdown",
      "metadata": {
        "id": "kxDVxThWwkQD",
        "colab_type": "text"
      },
      "source": [
        "You can also search for Frames by their Lexical Units (LUs). The frames_by_lemma() function returns a list of all frames that contain LUs in which the 'name' attribute of the LU matchs the given regular expression. Note that LU names are composed of \"lemma.POS\", where the \"lemma\" part can be made up of either a single lexeme (e.g. 'run') or multiple lexemes (e.g. 'a little')"
      ]
    },
    {
      "cell_type": "code",
      "metadata": {
        "id": "wb9AY2mywcj0",
        "colab_type": "code",
        "colab": {
          "base_uri": "https://localhost:8080/",
          "height": 34
        },
        "outputId": "ca2f76de-2358-4eec-ec26-555eb01d8a67"
      },
      "source": [
        "fn.frames_by_lemma(r'(?i)a little')"
      ],
      "execution_count": 48,
      "outputs": [
        {
          "output_type": "execute_result",
          "data": {
            "text/plain": [
              "[<frame ID=2001 name=Degree>, <frame ID=189 name=Quantified_mass>]"
            ]
          },
          "metadata": {
            "tags": []
          },
          "execution_count": 48
        }
      ]
    },
    {
      "cell_type": "markdown",
      "metadata": {
        "id": "vsN9yF-vxdTi",
        "colab_type": "text"
      },
      "source": [
        "## Lexical Units\n",
        "A lexical unit (LU) is a pairing of a word with a meaning. For example, the \"Apply_heat\" Frame describes a common situation involving a Cook, some Food, and a Heating Instrument, and is _evoked_ by words such as bake, blanch, boil, broil, brown, simmer, steam, etc. These frame-evoking words are the LUs in the Apply_heat frame. Each sense of a polysemous word is a different LU."
      ]
    },
    {
      "cell_type": "code",
      "metadata": {
        "id": "kcRsvYxWwsZr",
        "colab_type": "code",
        "colab": {
          "base_uri": "https://localhost:8080/",
          "height": 34
        },
        "outputId": "32ba292d-e943-48cb-edf4-f9e205179717"
      },
      "source": [
        "# number of lexicul units in FrameNet\n",
        "len(fn.lus())\n",
        "  "
      ],
      "execution_count": 50,
      "outputs": [
        {
          "output_type": "execute_result",
          "data": {
            "text/plain": [
              "13572"
            ]
          },
          "metadata": {
            "tags": []
          },
          "execution_count": 50
        }
      ]
    },
    {
      "cell_type": "code",
      "metadata": {
        "id": "SD-cb8GZx0Ik",
        "colab_type": "code",
        "colab": {
          "base_uri": "https://localhost:8080/",
          "height": 68
        },
        "outputId": "f75e3b27-cc9e-4e81-e1bc-bb2707e5562f"
      },
      "source": [
        "lus = fn.lus(r'(?i)a little')\n",
        "for l in lus:\n",
        "  print(l.ID, l.name, l.definition)\n",
        "  \n",
        "  "
      ],
      "execution_count": 85,
      "outputs": [
        {
          "output_type": "stream",
          "text": [
            "14744 a little bit.adv FN: to a small degree\n",
            "14743 a little.adv FN: to a small degree\n",
            "14733 a little.n FN: a small amount\n"
          ],
          "name": "stdout"
        }
      ]
    },
    {
      "cell_type": "markdown",
      "metadata": {
        "id": "ZKkZWULPy7Rt",
        "colab_type": "text"
      },
      "source": [
        "Note that LU names take the form of a dotted string (e.g. \"run.v\" or \"a little.adv\") in which a lemma preceeds the \".\" and a part of speech (POS) follows the dot. The lemma may be composed of a single lexeme (e.g. \"run\") or of multiple lexemes (e.g. \"a little\"). The list of POSs used in the LUs is:\n",
        "\n",
        "v - verb n - noun a - adjective adv - adverb prep - preposition num - numbers intj - interjection art - article c - conjunction scon - subordinating conjunction\n",
        "\n",
        "\n",
        "You can obtain detailed information on a particular LU by calling the lu() function and passing in an LU's 'ID' number:\n",
        "\n"
      ]
    },
    {
      "cell_type": "code",
      "metadata": {
        "id": "8jI1BiL2x7aS",
        "colab_type": "code",
        "colab": {
          "base_uri": "https://localhost:8080/",
          "height": 34
        },
        "outputId": "d43760f6-822e-4e9e-daf6-4cb542727ba9"
      },
      "source": [
        "lu_id =14443 \n",
        "print(fn.lu(lu_id).name,\"--\", fn.lu(lu_id).definition)\n"
      ],
      "execution_count": 89,
      "outputs": [
        {
          "output_type": "stream",
          "text": [
            "frigid.a -- FN: extremely cold.\n"
          ],
          "name": "stdout"
        }
      ]
    },
    {
      "cell_type": "code",
      "metadata": {
        "id": "Yzfek8h1zIa5",
        "colab_type": "code",
        "colab": {
          "base_uri": "https://localhost:8080/",
          "height": 51
        },
        "outputId": "98b163d3-de54-40bf-b592-0bed630da3a1"
      },
      "source": [
        "print(\"Frame Name: \", fn.lu(lu_id).frame.name)\n",
        "print(\"Lemma Name \", fn.lu(lu_id).lexemes[0].name)"
      ],
      "execution_count": 93,
      "outputs": [
        {
          "output_type": "stream",
          "text": [
            "Frame Name:  Temperature\n",
            "Lemma Name  frigid\n"
          ],
          "name": "stdout"
        }
      ]
    },
    {
      "cell_type": "code",
      "metadata": {
        "id": "JC2CixMP0ZxP",
        "colab_type": "code",
        "colab": {}
      },
      "source": [
        ""
      ],
      "execution_count": 0,
      "outputs": []
    }
  ]
}